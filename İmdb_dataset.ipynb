{
 "cells": [
  {
   "cell_type": "code",
   "execution_count": 15,
   "id": "e2f47eb2",
   "metadata": {},
   "outputs": [],
   "source": [
    "#gerekli kütüphaneler\n",
    "import pandas as pd\n",
    "import numpy as np\n",
    "\n",
    "#veri okuma işlemi\n",
    "df= pd.read_csv(\"../imdb.csv\")\n",
    "#gösterilecek max satır\n",
    "pd.set_option('display.max_rows', 10)"
   ]
  },
  {
   "cell_type": "code",
   "execution_count": 16,
   "id": "40812715",
   "metadata": {},
   "outputs": [
    {
     "name": "stdout",
     "output_type": "stream",
     "text": [
      "<class 'pandas.core.frame.DataFrame'>\n",
      "RangeIndex: 850 entries, 0 to 849\n",
      "Data columns (total 7 columns):\n",
      " #   Column       Non-Null Count  Dtype  \n",
      "---  ------       --------------  -----  \n",
      " 0   Movie_Title  850 non-null    object \n",
      " 1   YR_Released  850 non-null    int64  \n",
      " 2   Rating       850 non-null    float64\n",
      " 3   Num_Reviews  850 non-null    int64  \n",
      " 4   Movie_ID     850 non-null    object \n",
      " 5   Record       850 non-null    object \n",
      " 6   Runtime      849 non-null    float64\n",
      "dtypes: float64(2), int64(2), object(3)\n",
      "memory usage: 46.6+ KB\n"
     ]
    }
   ],
   "source": [
    "df.info()\n",
    "#bilgiyi incelediğimizde sadece runtime sütununda NaN değer olduğunu görmekteyiz\n"
   ]
  },
  {
   "cell_type": "code",
   "execution_count": 17,
   "id": "c335d983",
   "metadata": {},
   "outputs": [],
   "source": [
    "#Yapı yılına göre sınıflandırma işlemi: 1921-2017 arasını 5 parça halinde sınıflandıracağız\n",
    "def siniflandirma(year):\n",
    "    if year>=1921 and year<1941:\n",
    "        return 1\n",
    "    elif year>=1941 and year<1961:\n",
    "        return 2\n",
    "    elif year>=1961 and year<1981:\n",
    "        return 3\n",
    "    elif year>=1981 and year<2001:\n",
    "        return 4\n",
    "    elif year>=2001 and year<2017:\n",
    "        return 5\n",
    "    else:\n",
    "        return None\n",
    "df[\"YR_Released\"]=df[\"YR_Released\"].apply(siniflandirma)\n"
   ]
  },
  {
   "cell_type": "code",
   "execution_count": 18,
   "id": "baaf9caf",
   "metadata": {},
   "outputs": [
    {
     "data": {
      "text/html": [
       "<div>\n",
       "<style scoped>\n",
       "    .dataframe tbody tr th:only-of-type {\n",
       "        vertical-align: middle;\n",
       "    }\n",
       "\n",
       "    .dataframe tbody tr th {\n",
       "        vertical-align: top;\n",
       "    }\n",
       "\n",
       "    .dataframe thead th {\n",
       "        text-align: right;\n",
       "    }\n",
       "</style>\n",
       "<table border=\"1\" class=\"dataframe\">\n",
       "  <thead>\n",
       "    <tr style=\"text-align: right;\">\n",
       "      <th></th>\n",
       "      <th>Movie_Title</th>\n",
       "      <th>Rating</th>\n",
       "      <th>Num_Reviews</th>\n",
       "      <th>Movie_ID</th>\n",
       "      <th>Record</th>\n",
       "      <th>Runtime</th>\n",
       "    </tr>\n",
       "    <tr>\n",
       "      <th>YR_Released</th>\n",
       "      <th></th>\n",
       "      <th></th>\n",
       "      <th></th>\n",
       "      <th></th>\n",
       "      <th></th>\n",
       "      <th></th>\n",
       "    </tr>\n",
       "  </thead>\n",
       "  <tbody>\n",
       "    <tr>\n",
       "      <th>1.0</th>\n",
       "      <td>32</td>\n",
       "      <td>32</td>\n",
       "      <td>32</td>\n",
       "      <td>32</td>\n",
       "      <td>32</td>\n",
       "      <td>32</td>\n",
       "    </tr>\n",
       "    <tr>\n",
       "      <th>2.0</th>\n",
       "      <td>90</td>\n",
       "      <td>90</td>\n",
       "      <td>90</td>\n",
       "      <td>90</td>\n",
       "      <td>90</td>\n",
       "      <td>90</td>\n",
       "    </tr>\n",
       "    <tr>\n",
       "      <th>3.0</th>\n",
       "      <td>112</td>\n",
       "      <td>112</td>\n",
       "      <td>112</td>\n",
       "      <td>112</td>\n",
       "      <td>112</td>\n",
       "      <td>112</td>\n",
       "    </tr>\n",
       "    <tr>\n",
       "      <th>4.0</th>\n",
       "      <td>211</td>\n",
       "      <td>211</td>\n",
       "      <td>211</td>\n",
       "      <td>211</td>\n",
       "      <td>211</td>\n",
       "      <td>211</td>\n",
       "    </tr>\n",
       "    <tr>\n",
       "      <th>5.0</th>\n",
       "      <td>393</td>\n",
       "      <td>393</td>\n",
       "      <td>393</td>\n",
       "      <td>393</td>\n",
       "      <td>393</td>\n",
       "      <td>392</td>\n",
       "    </tr>\n",
       "  </tbody>\n",
       "</table>\n",
       "</div>"
      ],
      "text/plain": [
       "             Movie_Title  Rating  Num_Reviews  Movie_ID  Record  Runtime\n",
       "YR_Released                                                             \n",
       "1.0                   32      32           32        32      32       32\n",
       "2.0                   90      90           90        90      90       90\n",
       "3.0                  112     112          112       112     112      112\n",
       "4.0                  211     211          211       211     211      211\n",
       "5.0                  393     393          393       393     393      392"
      ]
     },
     "execution_count": 18,
     "metadata": {},
     "output_type": "execute_result"
    }
   ],
   "source": [
    "df.groupby(\"YR_Released\").count()\n",
    "#basit bir sınıflandırma örneği "
   ]
  },
  {
   "cell_type": "code",
   "execution_count": 19,
   "id": "1c287c39",
   "metadata": {},
   "outputs": [],
   "source": [
    "# Bir Değerin istenilen koşulu sağlayı sağlamamasına göre True False döndürme\n",
    "df[\"Rating\"]=df[\"Rating\"]>8.2"
   ]
  },
  {
   "cell_type": "code",
   "execution_count": 20,
   "id": "72aea2b7",
   "metadata": {},
   "outputs": [],
   "source": [
    "def numaralandirma(string):\n",
    "    if string==\"True\":\n",
    "        return 1\n",
    "    else:\n",
    "        return 0\n",
    "# Bu durum bize istinilen durumda 1 olup olmadığını verecek ve biz bu veriyi grafik üzerinde istediğimiz düzende göreceğiz\n",
    "df[\"Rating\"]=df[\"Rating\"].apply(numaralandirma)"
   ]
  },
  {
   "cell_type": "code",
   "execution_count": 21,
   "id": "c4f2a782",
   "metadata": {},
   "outputs": [],
   "source": [
    "#string ifadeler için ise Şöyle bir uygulama yapabiliriz\n",
    "df[\"Movie_Title\"]=df[\"Movie_Title\"].str.find(\"Pirates of the Caribbean\")!=-1"
   ]
  },
  {
   "cell_type": "code",
   "execution_count": 26,
   "id": "be3c5059",
   "metadata": {},
   "outputs": [],
   "source": [
    "#Sonucu 0-1 olarak değelendirmesini sağlaması\n",
    "df[\"Movie_Title\"]=df[\"Movie_Title\"].apply(numaralandirma)"
   ]
  },
  {
   "cell_type": "code",
   "execution_count": 27,
   "id": "a136ebad",
   "metadata": {},
   "outputs": [
    {
     "data": {
      "text/html": [
       "<div>\n",
       "<style scoped>\n",
       "    .dataframe tbody tr th:only-of-type {\n",
       "        vertical-align: middle;\n",
       "    }\n",
       "\n",
       "    .dataframe tbody tr th {\n",
       "        vertical-align: top;\n",
       "    }\n",
       "\n",
       "    .dataframe thead th {\n",
       "        text-align: right;\n",
       "    }\n",
       "</style>\n",
       "<table border=\"1\" class=\"dataframe\">\n",
       "  <thead>\n",
       "    <tr style=\"text-align: right;\">\n",
       "      <th></th>\n",
       "      <th>Movie_Title</th>\n",
       "      <th>YR_Released</th>\n",
       "      <th>Rating</th>\n",
       "      <th>Num_Reviews</th>\n",
       "      <th>Movie_ID</th>\n",
       "      <th>Record</th>\n",
       "      <th>Runtime</th>\n",
       "    </tr>\n",
       "  </thead>\n",
       "  <tbody>\n",
       "    <tr>\n",
       "      <th>0</th>\n",
       "      <td>0</td>\n",
       "      <td>5.0</td>\n",
       "      <td>0</td>\n",
       "      <td>24623</td>\n",
       "      <td>tt4458206</td>\n",
       "      <td>Bottom 250 Movies</td>\n",
       "      <td>114.0</td>\n",
       "    </tr>\n",
       "    <tr>\n",
       "      <th>1</th>\n",
       "      <td>0</td>\n",
       "      <td>5.0</td>\n",
       "      <td>0</td>\n",
       "      <td>12765</td>\n",
       "      <td>tt4009460</td>\n",
       "      <td>Bottom 250 Movies</td>\n",
       "      <td>80.0</td>\n",
       "    </tr>\n",
       "    <tr>\n",
       "      <th>2</th>\n",
       "      <td>0</td>\n",
       "      <td>5.0</td>\n",
       "      <td>0</td>\n",
       "      <td>26505</td>\n",
       "      <td>tt0270846</td>\n",
       "      <td>Bottom 250 Movies</td>\n",
       "      <td>88.0</td>\n",
       "    </tr>\n",
       "    <tr>\n",
       "      <th>3</th>\n",
       "      <td>0</td>\n",
       "      <td>5.0</td>\n",
       "      <td>0</td>\n",
       "      <td>13295</td>\n",
       "      <td>tt0421051</td>\n",
       "      <td>Bottom 250 Movies</td>\n",
       "      <td>81.0</td>\n",
       "    </tr>\n",
       "    <tr>\n",
       "      <th>4</th>\n",
       "      <td>0</td>\n",
       "      <td>3.0</td>\n",
       "      <td>0</td>\n",
       "      <td>31808</td>\n",
       "      <td>tt0060666</td>\n",
       "      <td>Bottom 250 Movies</td>\n",
       "      <td>70.0</td>\n",
       "    </tr>\n",
       "  </tbody>\n",
       "</table>\n",
       "</div>"
      ],
      "text/plain": [
       "   Movie_Title  YR_Released  Rating  Num_Reviews   Movie_ID  \\\n",
       "0            0          5.0       0        24623  tt4458206   \n",
       "1            0          5.0       0        12765  tt4009460   \n",
       "2            0          5.0       0        26505  tt0270846   \n",
       "3            0          5.0       0        13295  tt0421051   \n",
       "4            0          3.0       0        31808  tt0060666   \n",
       "\n",
       "              Record  Runtime  \n",
       "0  Bottom 250 Movies    114.0  \n",
       "1  Bottom 250 Movies     80.0  \n",
       "2  Bottom 250 Movies     88.0  \n",
       "3  Bottom 250 Movies     81.0  \n",
       "4  Bottom 250 Movies     70.0  "
      ]
     },
     "execution_count": 27,
     "metadata": {},
     "output_type": "execute_result"
    }
   ],
   "source": [
    "df.head()"
   ]
  }
 ],
 "metadata": {
  "kernelspec": {
   "display_name": "Python 3",
   "language": "python",
   "name": "python3"
  },
  "language_info": {
   "codemirror_mode": {
    "name": "ipython",
    "version": 3
   },
   "file_extension": ".py",
   "mimetype": "text/x-python",
   "name": "python",
   "nbconvert_exporter": "python",
   "pygments_lexer": "ipython3",
   "version": "3.9.1"
  }
 },
 "nbformat": 4,
 "nbformat_minor": 5
}
